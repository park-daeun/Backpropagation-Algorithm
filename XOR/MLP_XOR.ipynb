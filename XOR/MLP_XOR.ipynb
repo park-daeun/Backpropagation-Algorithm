{
 "cells": [
  {
   "cell_type": "markdown",
   "metadata": {},
   "source": [
    "# HW2-task1"
   ]
  },
  {
   "cell_type": "code",
   "execution_count": 1,
   "metadata": {},
   "outputs": [
    {
     "name": "stdout",
     "output_type": "stream",
     "text": [
      "Random hidden weight: \n",
      " [[0.78681352 0.56893329]\n",
      " [0.97453317 0.43059466]\n",
      " [0.85642749 0.54670908]]\n",
      "\n",
      "Random output weight: \n",
      " [[0.17401608]\n",
      " [0.10713061]\n",
      " [0.42702498]]\n",
      "\n",
      "\n",
      "Final hidden_weight: \n",
      " [[-3.01999313 -7.41278143]\n",
      " [ 6.72188874  4.83243667]\n",
      " [ 6.72522182  4.83324752]]\n",
      "\n",
      "Final output_weight: \n",
      " [[ -4.80227326]\n",
      " [ 10.313839  ]\n",
      " [-11.01727277]]\n",
      "\n",
      "\n",
      "Output:  [[0.01300923 0.9888778  0.98887536 0.01144976]]\n"
     ]
    }
   ],
   "source": [
    "#라이브러리 import\n",
    "import numpy as np\n",
    "\n",
    "#activation functions\n",
    "def sigmoid(x):\n",
    "    return 1/(1+ np.exp(-x))\n",
    "\n",
    "def de_sigmoid(x):\n",
    "    return sigmoid(x) * (1 - sigmoid(x))\n",
    "\n",
    "def add_bias(x):\n",
    "    x = np.c_[x,[0,0,0,0]]\n",
    "    bias = 1\n",
    "    for i in x:\n",
    "        i[2] = i[1]\n",
    "        i[1] = i[0]\n",
    "        i[0] = bias \n",
    "    return x\n",
    "\n",
    "#input layer\n",
    "Input = np.array([[0,0], [0,1], [1,0], [1,1]])\n",
    "#output layer\n",
    "y = np.array([[0], [1], [1], [0]])\n",
    "\n",
    "x = add_bias(Input)\n",
    "\n",
    "#hidden weight\n",
    "hidden_w = np.random.rand(3,2)\n",
    "#output weight\n",
    "output_w = np.random.rand(3,1)\n",
    "#learning rate\n",
    "alpha = 0.1\n",
    "\n",
    "print(\"Random hidden weight: \\n\", hidden_w)\n",
    "print(\"\\nRandom output weight: \\n\", output_w)\n",
    "\n",
    "#training\n",
    "for i in range(100000):\n",
    "    hidden_z = np.dot(x, hidden_w)\n",
    "    hidden_a = sigmoid(hidden_z)\n",
    "\n",
    "    output_i = add_bias(hidden_a)\n",
    "    output_z = np.dot(output_i, output_w)\n",
    "    output_a = sigmoid(output_z)\n",
    "\n",
    "    #backpropagation\n",
    "    output_delta = (y - output_a) * de_sigmoid(output_z)\n",
    "    hidden_delta = output_delta.dot(output_w[1:].T) * de_sigmoid(hidden_z)\n",
    "    \n",
    "    #update weight\n",
    "    output_w += alpha * output_i.T.dot(output_delta)\n",
    "    hidden_w += alpha * x.T.dot(hidden_delta)\n",
    "    \n",
    "print(\"\\n\\nFinal hidden_weight: \\n\", hidden_w)    \n",
    "print(\"\\nFinal output_weight: \\n\", output_w)\n",
    "\n",
    "print(\"\\n\\nOutput: \", output_a.T)"
   ]
  }
 ],
 "metadata": {
  "kernelspec": {
   "display_name": "Python 3",
   "language": "python",
   "name": "python3"
  },
  "language_info": {
   "codemirror_mode": {
    "name": "ipython",
    "version": 3
   },
   "file_extension": ".py",
   "mimetype": "text/x-python",
   "name": "python",
   "nbconvert_exporter": "python",
   "pygments_lexer": "ipython3",
   "version": "3.8.3"
  }
 },
 "nbformat": 4,
 "nbformat_minor": 4
}
